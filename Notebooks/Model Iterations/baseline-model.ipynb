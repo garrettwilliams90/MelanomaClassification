{
 "cells": [
  {
   "cell_type": "code",
   "execution_count": 1,
   "id": "b8bb2d1b",
   "metadata": {
    "_cell_guid": "b1076dfc-b9ad-4769-8c92-a6c4dae69d19",
    "_uuid": "8f2839f25d086af736a60e9eeb907d3b93b6e0e5",
    "execution": {
     "iopub.execute_input": "2021-11-30T00:28:21.948311Z",
     "iopub.status.busy": "2021-11-30T00:28:21.947809Z",
     "iopub.status.idle": "2021-11-30T00:28:21.956105Z",
     "shell.execute_reply": "2021-11-30T00:28:21.955575Z",
     "shell.execute_reply.started": "2021-11-29T21:26:25.913966Z"
    },
    "papermill": {
     "duration": 0.031061,
     "end_time": "2021-11-30T00:28:21.956234",
     "exception": false,
     "start_time": "2021-11-30T00:28:21.925173",
     "status": "completed"
    },
    "tags": []
   },
   "outputs": [
    {
     "data": {
      "text/plain": [
       "\"for dirname, _, filenames in os.walk('/kaggle/input'):\\n    for filename in filenames:\\n        print(os.path.join(dirname, filename))\""
      ]
     },
     "execution_count": 1,
     "metadata": {},
     "output_type": "execute_result"
    }
   ],
   "source": [
    "# This Python 3 environment comes with many helpful analytics libraries installed\n",
    "# It is defined by the kaggle/python Docker image: https://github.com/kaggle/docker-python\n",
    "# For example, here's several helpful packages to load\n",
    "\n",
    "import numpy as np # linear algebra\n",
    "import pandas as pd # data processing, CSV file I/O (e.g. pd.read_csv)\n",
    "\n",
    "# Input data files are available in the read-only \"../input/\" directory\n",
    "# For example, running this (by clicking run or pressing Shift+Enter) will list all files under the input directory\n",
    "\n",
    "import os\n",
    "'''for dirname, _, filenames in os.walk('/kaggle/input'):\n",
    "    for filename in filenames:\n",
    "        print(os.path.join(dirname, filename))'''\n",
    "\n",
    "# You can write up to 20GB to the current directory (/kaggle/working/) that gets preserved as output when you create a version using \"Save & Run All\" \n",
    "# You can also write temporary files to /kaggle/temp/, but they won't be saved outside of the current session"
   ]
  },
  {
   "cell_type": "code",
   "execution_count": 2,
   "id": "3f829bb8",
   "metadata": {
    "execution": {
     "iopub.execute_input": "2021-11-30T00:28:21.988318Z",
     "iopub.status.busy": "2021-11-30T00:28:21.985759Z",
     "iopub.status.idle": "2021-11-30T00:28:28.207605Z",
     "shell.execute_reply": "2021-11-30T00:28:28.206583Z",
     "shell.execute_reply.started": "2021-11-29T21:26:28.067646Z"
    },
    "papermill": {
     "duration": 6.23731,
     "end_time": "2021-11-30T00:28:28.207751",
     "exception": false,
     "start_time": "2021-11-30T00:28:21.970441",
     "status": "completed"
    },
    "tags": []
   },
   "outputs": [],
   "source": [
    "#Other necessary imports\n",
    "import matplotlib.pyplot as plt\n",
    "\n",
    "from PIL import Image\n",
    "import keras\n",
    "from keras import models\n",
    "from keras import layers\n",
    "from keras.preprocessing.image import ImageDataGenerator\n",
    "from keras.callbacks import EarlyStopping, ModelCheckpoint\n",
    "\n",
    "# Suppress warnings \n",
    "import warnings\n",
    "warnings.filterwarnings('ignore')"
   ]
  },
  {
   "cell_type": "code",
   "execution_count": 3,
   "id": "b479e063",
   "metadata": {
    "execution": {
     "iopub.execute_input": "2021-11-30T00:28:28.252112Z",
     "iopub.status.busy": "2021-11-30T00:28:28.251458Z",
     "iopub.status.idle": "2021-11-30T00:28:28.254230Z",
     "shell.execute_reply": "2021-11-30T00:28:28.253849Z",
     "shell.execute_reply.started": "2021-11-29T21:26:36.935462Z"
    },
    "papermill": {
     "duration": 0.033149,
     "end_time": "2021-11-30T00:28:28.254334",
     "exception": false,
     "start_time": "2021-11-30T00:28:28.221185",
     "status": "completed"
    },
    "tags": []
   },
   "outputs": [],
   "source": [
    "# Defining a results visualization function\n",
    "def visualize_results(history):\n",
    "    '''\n",
    "    From https://machinelearningmastery.com/display-deep-learning-model-training-history-in-keras/\n",
    "    \n",
    "    Input: keras history object (output from trained model)\n",
    "    '''\n",
    "    #Instantiate values\n",
    "    train_loss = history.history['loss']\n",
    "    train_acc = history.history['accuracy']\n",
    "    train_recall = history.history['recall']\n",
    "    train_aucroc = history.history['auc']\n",
    "    val_loss = history.history['val_loss']\n",
    "    val_acc = history.history['val_accuracy']\n",
    "    val_recall = history.history['val_recall']\n",
    "    val_aucroc = history.history['val_auc']\n",
    "    \n",
    "    #Create figure for plotting\n",
    "    fig, [(ax1, ax2), (ax3, ax4)] = plt.subplots(2, 2, figsize=(10, 5))\n",
    "    fig.suptitle('Model Results')\n",
    "    #plt.xlabel('Epoch')\n",
    "    \n",
    "    #Plot Loss\n",
    "    ax1.plot(train_loss)\n",
    "    ax1.plot(val_loss)\n",
    "    ax1.set_ylabel('Loss')\n",
    "    ax1.set_xlabel('Epochs')\n",
    "    ax1.legend(['train', 'val'])\n",
    "    \n",
    "    #Plot Accuracy\n",
    "    ax2.plot(train_acc)\n",
    "    ax2.plot(val_acc)\n",
    "    ax2.set_ylabel('Accuracy')\n",
    "    ax2.set_xlabel('Epochs')\n",
    "    ax2.legend(['train', 'val'])\n",
    "    \n",
    "    #Plot Recall\n",
    "    ax3.plot(train_recall)\n",
    "    ax3.plot(val_recall)\n",
    "    ax3.set_ylabel('Recall')\n",
    "    ax3.set_xlabel('Epochs')\n",
    "    ax3.legend(['train', 'val'])\n",
    "    \n",
    "    #Plot AUC-ROC\n",
    "    ax4.plot(train_aucroc)\n",
    "    ax4.plot(val_aucroc)\n",
    "    ax4.set_ylabel('AUC-ROC')\n",
    "    ax4.set_xlabel('Epochs')\n",
    "    ax4.legend(['train', 'val'])\n",
    "    \n",
    "    plt.show();"
   ]
  },
  {
   "cell_type": "markdown",
   "id": "e0097368",
   "metadata": {
    "papermill": {
     "duration": 0.007467,
     "end_time": "2021-11-30T00:28:28.269854",
     "exception": false,
     "start_time": "2021-11-30T00:28:28.262387",
     "status": "completed"
    },
    "tags": []
   },
   "source": [
    "# Load Processed Data"
   ]
  },
  {
   "cell_type": "code",
   "execution_count": 4,
   "id": "0509a3ce",
   "metadata": {
    "execution": {
     "iopub.execute_input": "2021-11-30T00:28:28.287714Z",
     "iopub.status.busy": "2021-11-30T00:28:28.287277Z",
     "iopub.status.idle": "2021-11-30T00:29:01.209648Z",
     "shell.execute_reply": "2021-11-30T00:29:01.209211Z",
     "shell.execute_reply.started": "2021-11-29T21:26:39.267907Z"
    },
    "papermill": {
     "duration": 32.932266,
     "end_time": "2021-11-30T00:29:01.209767",
     "exception": false,
     "start_time": "2021-11-30T00:28:28.277501",
     "status": "completed"
    },
    "tags": []
   },
   "outputs": [],
   "source": [
    "#Load data\n",
    "train_images = np.load('../input/eda-and-data-preprocessing/train_images.npy')\n",
    "train_labels = np.load('../input/eda-and-data-preprocessing/train_labels.npy')\n",
    "\n",
    "train_images_third = np.load('../input/eda-and-data-preprocessing/train_images_third.npy')\n",
    "train_labels_third = np.load('../input/eda-and-data-preprocessing/train_labels_third.npy')\n",
    "\n",
    "val_images = np.load('../input/eda-and-data-preprocessing/val_images.npy')\n",
    "val_labels = np.load('../input/eda-and-data-preprocessing/val_labels.npy')\n",
    "\n",
    "test_images = np.load('../input/eda-and-data-preprocessing/test_images.npy')\n",
    "test_labels = np.load('../input/eda-and-data-preprocessing/test_labels.npy')"
   ]
  },
  {
   "cell_type": "code",
   "execution_count": 5,
   "id": "dc5edb34",
   "metadata": {
    "execution": {
     "iopub.execute_input": "2021-11-30T00:29:01.235613Z",
     "iopub.status.busy": "2021-11-30T00:29:01.234709Z",
     "iopub.status.idle": "2021-11-30T00:29:01.240652Z",
     "shell.execute_reply": "2021-11-30T00:29:01.240060Z",
     "shell.execute_reply.started": "2021-11-29T21:27:09.748102Z"
    },
    "papermill": {
     "duration": 0.022435,
     "end_time": "2021-11-30T00:29:01.240788",
     "exception": false,
     "start_time": "2021-11-30T00:29:01.218353",
     "status": "completed"
    },
    "tags": []
   },
   "outputs": [
    {
     "name": "stdout",
     "output_type": "stream",
     "text": [
      "Number of training samples: 25803\n",
      "A third of training samples: 8601\n",
      "Number of validation samples: 8602\n",
      "Number of testing samples: 3823\n",
      "===\n",
      "train_images shape: (25803, 128, 128, 3)\n",
      "train_labels shape: (25803,)\n",
      "A third of train_images shape: (8601, 128, 128, 3)\n",
      "A third of train_labels shape: (8601,)\n",
      "val_images shape: (8602, 128, 128, 3)\n",
      "val_labels shape: (8602,)\n",
      "test_images shape: (3823, 128, 128, 3)\n",
      "test_labels shape: (3823,)\n"
     ]
    }
   ],
   "source": [
    "#Explore the dataset again\n",
    "print (\"Number of training samples: \" + str(train_images.shape[0]))\n",
    "print (\"A third of training samples: \" + str(train_images_third.shape[0]))\n",
    "print (\"Number of validation samples: \" + str(val_images.shape[0]))\n",
    "print (\"Number of testing samples: \" + str(test_images.shape[0]))\n",
    "print (\"===\")\n",
    "print (\"train_images shape: \" + str(train_images.shape))\n",
    "print (\"train_labels shape: \" + str(train_labels.shape))\n",
    "print (\"A third of train_images shape: \" + str(train_images_third.shape))\n",
    "print (\"A third of train_labels shape: \" + str(train_labels_third.shape))\n",
    "print (\"val_images shape: \" + str(val_images.shape))\n",
    "print (\"val_labels shape: \" + str(val_labels.shape))\n",
    "print (\"test_images shape: \" + str(test_images.shape))\n",
    "print (\"test_labels shape: \" + str(test_labels.shape))"
   ]
  },
  {
   "cell_type": "markdown",
   "id": "47a8960b",
   "metadata": {
    "papermill": {
     "duration": 0.013152,
     "end_time": "2021-11-30T00:29:01.268008",
     "exception": false,
     "start_time": "2021-11-30T00:29:01.254856",
     "status": "completed"
    },
    "tags": []
   },
   "source": [
    "# Modeling"
   ]
  },
  {
   "cell_type": "code",
   "execution_count": 6,
   "id": "65e94682",
   "metadata": {
    "execution": {
     "iopub.execute_input": "2021-11-30T00:29:01.301018Z",
     "iopub.status.busy": "2021-11-30T00:29:01.300296Z",
     "iopub.status.idle": "2021-11-30T00:29:01.461267Z",
     "shell.execute_reply": "2021-11-30T00:29:01.461818Z",
     "shell.execute_reply.started": "2021-11-29T21:27:26.768068Z"
    },
    "papermill": {
     "duration": 0.180491,
     "end_time": "2021-11-30T00:29:01.461977",
     "exception": false,
     "start_time": "2021-11-30T00:29:01.281486",
     "status": "completed"
    },
    "tags": []
   },
   "outputs": [
    {
     "name": "stderr",
     "output_type": "stream",
     "text": [
      "\n",
      "User settings:\n",
      "\n",
      "   KMP_AFFINITY=granularity=fine,verbose,compact,1,0\n",
      "   KMP_BLOCKTIME=0\n",
      "   KMP_SETTINGS=1\n",
      "   KMP_WARNINGS=0\n",
      "\n",
      "Effective settings:\n",
      "\n",
      "   KMP_ABORT_DELAY=0\n",
      "   KMP_ADAPTIVE_LOCK_PROPS='1,1024'\n",
      "   KMP_ALIGN_ALLOC=64\n",
      "   KMP_ALL_THREADPRIVATE=128\n",
      "   KMP_ATOMIC_MODE=2\n",
      "   KMP_BLOCKTIME=0\n",
      "   KMP_CPUINFO_FILE: value is not defined\n",
      "   KMP_DETERMINISTIC_REDUCTION=false\n",
      "   KMP_DEVICE_THREAD_LIMIT=2147483647\n",
      "   KMP_DISP_NUM_BUFFERS=7\n",
      "   KMP_DUPLICATE_LIB_OK=false\n",
      "   KMP_ENABLE_TASK_THROTTLING=true\n",
      "   KMP_FORCE_REDUCTION: value is not defined\n",
      "   KMP_FOREIGN_THREADS_THREADPRIVATE=true\n",
      "   KMP_FORKJOIN_BARRIER='2,2'\n",
      "   KMP_FORKJOIN_BARRIER_PATTERN='hyper,hyper'\n",
      "   KMP_GTID_MODE=3\n",
      "   KMP_HANDLE_SIGNALS=false\n",
      "   KMP_HOT_TEAMS_MAX_LEVEL=1\n",
      "   KMP_HOT_TEAMS_MODE=0\n",
      "   KMP_INIT_AT_FORK=true\n",
      "   KMP_LIBRARY=throughput\n",
      "   KMP_LOCK_KIND=queuing\n",
      "   KMP_MALLOC_POOL_INCR=1M\n",
      "   KMP_NUM_LOCKS_IN_BLOCK=1\n",
      "   KMP_PLAIN_BARRIER='2,2'\n",
      "   KMP_PLAIN_BARRIER_PATTERN='hyper,hyper'\n",
      "   KMP_REDUCTION_BARRIER='1,1'\n",
      "   KMP_REDUCTION_BARRIER_PATTERN='hyper,hyper'\n",
      "   KMP_SCHEDULE='static,balanced;guided,iterative'\n",
      "   KMP_SETTINGS=true\n",
      "   KMP_SPIN_BACKOFF_PARAMS='4096,100'\n",
      "   KMP_STACKOFFSET=64\n",
      "   KMP_STACKPAD=0\n",
      "   KMP_STACKSIZE=8M\n",
      "   KMP_STORAGE_MAP=false\n",
      "   KMP_TASKING=2\n",
      "   KMP_TASKLOOP_MIN_TASKS=0\n",
      "   KMP_TASK_STEALING_CONSTRAINT=1\n",
      "   KMP_TEAMS_THREAD_LIMIT=4\n",
      "   KMP_TOPOLOGY_METHOD=all\n",
      "   KMP_USE_YIELD=1\n",
      "   KMP_VERSION=false\n",
      "   KMP_WARNINGS=false\n",
      "   OMP_AFFINITY_FORMAT='OMP: pid %P tid %i thread %n bound to OS proc set {%A}'\n",
      "   OMP_ALLOCATOR=omp_default_mem_alloc\n",
      "   OMP_CANCELLATION=false\n",
      "   OMP_DEFAULT_DEVICE=0\n",
      "   OMP_DISPLAY_AFFINITY=false\n",
      "   OMP_DISPLAY_ENV=false\n",
      "   OMP_DYNAMIC=false\n",
      "   OMP_MAX_ACTIVE_LEVELS=1\n",
      "   OMP_MAX_TASK_PRIORITY=0\n",
      "   OMP_NESTED: deprecated; max-active-levels-var=1\n",
      "   OMP_NUM_THREADS: value is not defined\n",
      "   OMP_PLACES: value is not defined\n",
      "   OMP_PROC_BIND='intel'\n",
      "   OMP_SCHEDULE='static'\n",
      "   OMP_STACKSIZE=8M\n",
      "   OMP_TARGET_OFFLOAD=DEFAULT\n",
      "   OMP_THREAD_LIMIT=2147483647\n",
      "   OMP_WAIT_POLICY=PASSIVE\n",
      "   KMP_AFFINITY='verbose,warnings,respect,granularity=fine,compact,1,0'\n",
      "\n",
      "2021-11-30 00:29:01.336092: I tensorflow/core/common_runtime/process_util.cc:146] Creating new thread pool with default inter op setting: 2. Tune using inter_op_parallelism_threads for best performance.\n"
     ]
    }
   ],
   "source": [
    "#Build a baseline fully connected model\n",
    "np.random.seed(42)\n",
    "baseline_model = models.Sequential()\n",
    "baseline_model.add(layers.Dense(12, activation='relu', input_shape=(128,128,3))) # 2 hidden layers\n",
    "baseline_model.add(layers.Flatten())\n",
    "baseline_model.add(layers.Dense(7, activation='relu'))\n",
    "baseline_model.add(layers.Dense(5, activation='relu'))\n",
    "baseline_model.add(layers.Dense(1, activation='sigmoid'))"
   ]
  },
  {
   "cell_type": "code",
   "execution_count": 7,
   "id": "48d634a2",
   "metadata": {
    "execution": {
     "iopub.execute_input": "2021-11-30T00:29:01.495473Z",
     "iopub.status.busy": "2021-11-30T00:29:01.494713Z",
     "iopub.status.idle": "2021-11-30T00:29:01.502218Z",
     "shell.execute_reply": "2021-11-30T00:29:01.502717Z",
     "shell.execute_reply.started": "2021-11-29T21:27:31.377142Z"
    },
    "papermill": {
     "duration": 0.026982,
     "end_time": "2021-11-30T00:29:01.502847",
     "exception": false,
     "start_time": "2021-11-30T00:29:01.475865",
     "status": "completed"
    },
    "tags": []
   },
   "outputs": [
    {
     "name": "stdout",
     "output_type": "stream",
     "text": [
      "Model: \"sequential\"\n",
      "_________________________________________________________________\n",
      "Layer (type)                 Output Shape              Param #   \n",
      "=================================================================\n",
      "dense (Dense)                (None, 128, 128, 12)      48        \n",
      "_________________________________________________________________\n",
      "flatten (Flatten)            (None, 196608)            0         \n",
      "_________________________________________________________________\n",
      "dense_1 (Dense)              (None, 7)                 1376263   \n",
      "_________________________________________________________________\n",
      "dense_2 (Dense)              (None, 5)                 40        \n",
      "_________________________________________________________________\n",
      "dense_3 (Dense)              (None, 1)                 6         \n",
      "=================================================================\n",
      "Total params: 1,376,357\n",
      "Trainable params: 1,376,357\n",
      "Non-trainable params: 0\n",
      "_________________________________________________________________\n"
     ]
    }
   ],
   "source": [
    "#View summary of model\n",
    "baseline_model.summary()"
   ]
  },
  {
   "cell_type": "code",
   "execution_count": 8,
   "id": "100e797e",
   "metadata": {
    "execution": {
     "iopub.execute_input": "2021-11-30T00:29:01.525720Z",
     "iopub.status.busy": "2021-11-30T00:29:01.525048Z",
     "iopub.status.idle": "2021-11-30T00:34:34.569957Z",
     "shell.execute_reply": "2021-11-30T00:34:34.569453Z",
     "shell.execute_reply.started": "2021-11-29T21:27:51.276453Z"
    },
    "papermill": {
     "duration": 333.0577,
     "end_time": "2021-11-30T00:34:34.570078",
     "exception": false,
     "start_time": "2021-11-30T00:29:01.512378",
     "status": "completed"
    },
    "tags": []
   },
   "outputs": [
    {
     "name": "stderr",
     "output_type": "stream",
     "text": [
      "2021-11-30 00:29:06.066593: I tensorflow/compiler/mlir/mlir_graph_optimization_pass.cc:185] None of the MLIR Optimization Passes are enabled (registered 2)\n"
     ]
    },
    {
     "name": "stdout",
     "output_type": "stream",
     "text": [
      "Epoch 1/50\n",
      "269/269 [==============================] - 15s 49ms/step - loss: 0.3715 - accuracy: 0.8540 - recall: 0.0081 - auc: 0.7765 - val_loss: 0.3122 - val_accuracy: 0.8586 - val_recall: 0.0696 - val_auc: 0.8837\n",
      "\n",
      "Epoch 00001: val_recall improved from -inf to 0.06959, saving model to best_baseline_model.h5\n",
      "Epoch 2/50\n",
      "269/269 [==============================] - 11s 42ms/step - loss: 0.2914 - accuracy: 0.8816 - recall: 0.3048 - auc: 0.8659 - val_loss: 0.2736 - val_accuracy: 0.8899 - val_recall: 0.3776 - val_auc: 0.8958\n",
      "\n",
      "Epoch 00002: val_recall improved from 0.06959 to 0.37764, saving model to best_baseline_model.h5\n",
      "Epoch 3/50\n",
      "269/269 [==============================] - 11s 40ms/step - loss: 0.2638 - accuracy: 0.8976 - recall: 0.4276 - auc: 0.8969 - val_loss: 0.2785 - val_accuracy: 0.8897 - val_recall: 0.3034 - val_auc: 0.9114\n",
      "\n",
      "Epoch 00003: val_recall did not improve from 0.37764\n",
      "Epoch 4/50\n",
      "269/269 [==============================] - 11s 41ms/step - loss: 0.2414 - accuracy: 0.9100 - recall: 0.5069 - auc: 0.9178 - val_loss: 0.2519 - val_accuracy: 0.9003 - val_recall: 0.3761 - val_auc: 0.9239\n",
      "\n",
      "Epoch 00004: val_recall did not improve from 0.37764\n",
      "Epoch 5/50\n",
      "269/269 [==============================] - 11s 42ms/step - loss: 0.2304 - accuracy: 0.9156 - recall: 0.5457 - auc: 0.9273 - val_loss: 0.2309 - val_accuracy: 0.9175 - val_recall: 0.5262 - val_auc: 0.9328\n",
      "\n",
      "Epoch 00005: val_recall improved from 0.37764 to 0.52619, saving model to best_baseline_model.h5\n",
      "Epoch 6/50\n",
      "269/269 [==============================] - 11s 42ms/step - loss: 0.2197 - accuracy: 0.9201 - recall: 0.5618 - auc: 0.9356 - val_loss: 0.2256 - val_accuracy: 0.9186 - val_recall: 0.6497 - val_auc: 0.9343\n",
      "\n",
      "Epoch 00006: val_recall improved from 0.52619 to 0.64973, saving model to best_baseline_model.h5\n",
      "Epoch 7/50\n",
      "269/269 [==============================] - 11s 41ms/step - loss: 0.2123 - accuracy: 0.9258 - recall: 0.6006 - auc: 0.9390 - val_loss: 0.2169 - val_accuracy: 0.9235 - val_recall: 0.5754 - val_auc: 0.9404\n",
      "\n",
      "Epoch 00007: val_recall did not improve from 0.64973\n",
      "Epoch 8/50\n",
      "269/269 [==============================] - 11s 43ms/step - loss: 0.2048 - accuracy: 0.9287 - recall: 0.6047 - auc: 0.9437 - val_loss: 0.2159 - val_accuracy: 0.9256 - val_recall: 0.5582 - val_auc: 0.9432\n",
      "\n",
      "Epoch 00008: val_recall did not improve from 0.64973\n",
      "Epoch 9/50\n",
      "269/269 [==============================] - 11s 40ms/step - loss: 0.2016 - accuracy: 0.9314 - recall: 0.6241 - auc: 0.9445 - val_loss: 0.2075 - val_accuracy: 0.9287 - val_recall: 0.6192 - val_auc: 0.9432\n",
      "\n",
      "Epoch 00009: val_recall did not improve from 0.64973\n",
      "Epoch 10/50\n",
      "269/269 [==============================] - 11s 41ms/step - loss: 0.1963 - accuracy: 0.9347 - recall: 0.6386 - auc: 0.9463 - val_loss: 0.2096 - val_accuracy: 0.9272 - val_recall: 0.5598 - val_auc: 0.9447\n",
      "\n",
      "Epoch 00010: val_recall did not improve from 0.64973\n",
      "Epoch 11/50\n",
      "269/269 [==============================] - 12s 43ms/step - loss: 0.1932 - accuracy: 0.9338 - recall: 0.6451 - auc: 0.9482 - val_loss: 0.2047 - val_accuracy: 0.9289 - val_recall: 0.6904 - val_auc: 0.9454\n",
      "\n",
      "Epoch 00011: val_recall improved from 0.64973 to 0.69038, saving model to best_baseline_model.h5\n",
      "Epoch 12/50\n",
      "269/269 [==============================] - 11s 41ms/step - loss: 0.1884 - accuracy: 0.9352 - recall: 0.6548 - auc: 0.9498 - val_loss: 0.1997 - val_accuracy: 0.9319 - val_recall: 0.6052 - val_auc: 0.9452\n",
      "\n",
      "Epoch 00012: val_recall did not improve from 0.69038\n",
      "Epoch 13/50\n",
      "269/269 [==============================] - 11s 41ms/step - loss: 0.1835 - accuracy: 0.9372 - recall: 0.6629 - auc: 0.9524 - val_loss: 0.1999 - val_accuracy: 0.9284 - val_recall: 0.6450 - val_auc: 0.9442\n",
      "\n",
      "Epoch 00013: val_recall did not improve from 0.69038\n",
      "Epoch 14/50\n",
      "269/269 [==============================] - 11s 43ms/step - loss: 0.1825 - accuracy: 0.9374 - recall: 0.6726 - auc: 0.9513 - val_loss: 0.1937 - val_accuracy: 0.9319 - val_recall: 0.6372 - val_auc: 0.9483\n",
      "\n",
      "Epoch 00014: val_recall did not improve from 0.69038\n",
      "Epoch 15/50\n",
      "269/269 [==============================] - 11s 41ms/step - loss: 0.1780 - accuracy: 0.9374 - recall: 0.6742 - auc: 0.9549 - val_loss: 0.1920 - val_accuracy: 0.9337 - val_recall: 0.6724 - val_auc: 0.9473\n",
      "\n",
      "Epoch 00015: val_recall did not improve from 0.69038\n",
      "Epoch 16/50\n",
      "269/269 [==============================] - 11s 41ms/step - loss: 0.1765 - accuracy: 0.9387 - recall: 0.6766 - auc: 0.9539 - val_loss: 0.1901 - val_accuracy: 0.9318 - val_recall: 0.6677 - val_auc: 0.9475\n",
      "\n",
      "Epoch 00016: val_recall did not improve from 0.69038\n",
      "Epoch 17/50\n",
      "269/269 [==============================] - 11s 42ms/step - loss: 0.1735 - accuracy: 0.9399 - recall: 0.6896 - auc: 0.9544 - val_loss: 0.1875 - val_accuracy: 0.9347 - val_recall: 0.6536 - val_auc: 0.9491\n",
      "\n",
      "Epoch 00017: val_recall did not improve from 0.69038\n",
      "Epoch 18/50\n",
      "269/269 [==============================] - 11s 41ms/step - loss: 0.1723 - accuracy: 0.9386 - recall: 0.6823 - auc: 0.9561 - val_loss: 0.1878 - val_accuracy: 0.9312 - val_recall: 0.7013 - val_auc: 0.9485\n",
      "\n",
      "Epoch 00018: val_recall improved from 0.69038 to 0.70133, saving model to best_baseline_model.h5\n",
      "Epoch 19/50\n",
      "269/269 [==============================] - 11s 41ms/step - loss: 0.1684 - accuracy: 0.9404 - recall: 0.6993 - auc: 0.9575 - val_loss: 0.1896 - val_accuracy: 0.9301 - val_recall: 0.6716 - val_auc: 0.9464\n",
      "\n",
      "Epoch 00019: val_recall did not improve from 0.70133\n",
      "Epoch 20/50\n",
      "269/269 [==============================] - 11s 42ms/step - loss: 0.1664 - accuracy: 0.9413 - recall: 0.6977 - auc: 0.9560 - val_loss: 0.1845 - val_accuracy: 0.9341 - val_recall: 0.6771 - val_auc: 0.9494\n",
      "\n",
      "Epoch 00020: val_recall did not improve from 0.70133\n",
      "Epoch 21/50\n",
      "269/269 [==============================] - 11s 41ms/step - loss: 0.1626 - accuracy: 0.9416 - recall: 0.7082 - auc: 0.9600 - val_loss: 0.1851 - val_accuracy: 0.9346 - val_recall: 0.6701 - val_auc: 0.9484\n",
      "\n",
      "Epoch 00021: val_recall did not improve from 0.70133\n",
      "Epoch 22/50\n",
      "269/269 [==============================] - 12s 43ms/step - loss: 0.1645 - accuracy: 0.9412 - recall: 0.7057 - auc: 0.9580 - val_loss: 0.1838 - val_accuracy: 0.9325 - val_recall: 0.7146 - val_auc: 0.9498\n",
      "\n",
      "Epoch 00022: val_recall improved from 0.70133 to 0.71462, saving model to best_baseline_model.h5\n",
      "Epoch 23/50\n",
      "269/269 [==============================] - 11s 41ms/step - loss: 0.1591 - accuracy: 0.9438 - recall: 0.7227 - auc: 0.9621 - val_loss: 0.1882 - val_accuracy: 0.9334 - val_recall: 0.6341 - val_auc: 0.9498\n",
      "\n",
      "Epoch 00023: val_recall did not improve from 0.71462\n",
      "Epoch 24/50\n",
      "269/269 [==============================] - 11s 41ms/step - loss: 0.1588 - accuracy: 0.9457 - recall: 0.7251 - auc: 0.9607 - val_loss: 0.1819 - val_accuracy: 0.9327 - val_recall: 0.6802 - val_auc: 0.9512\n",
      "\n",
      "Epoch 00024: val_recall did not improve from 0.71462\n",
      "Epoch 25/50\n",
      "269/269 [==============================] - 12s 43ms/step - loss: 0.1552 - accuracy: 0.9445 - recall: 0.7251 - auc: 0.9638 - val_loss: 0.1920 - val_accuracy: 0.9300 - val_recall: 0.6286 - val_auc: 0.9472\n",
      "\n",
      "Epoch 00025: val_recall did not improve from 0.71462\n",
      "Epoch 26/50\n",
      "269/269 [==============================] - 11s 41ms/step - loss: 0.1555 - accuracy: 0.9444 - recall: 0.7276 - auc: 0.9619 - val_loss: 0.1847 - val_accuracy: 0.9347 - val_recall: 0.6349 - val_auc: 0.9496\n",
      "\n",
      "Epoch 00026: val_recall did not improve from 0.71462\n",
      "Epoch 27/50\n",
      "269/269 [==============================] - 11s 42ms/step - loss: 0.1539 - accuracy: 0.9456 - recall: 0.7348 - auc: 0.9630 - val_loss: 0.1894 - val_accuracy: 0.9307 - val_recall: 0.6450 - val_auc: 0.9455\n",
      "\n",
      "Epoch 00027: val_recall did not improve from 0.71462\n",
      "Epoch 28/50\n",
      "269/269 [==============================] - 12s 43ms/step - loss: 0.1530 - accuracy: 0.9491 - recall: 0.7454 - auc: 0.9625 - val_loss: 0.1848 - val_accuracy: 0.9323 - val_recall: 0.7420 - val_auc: 0.9507\n",
      "\n",
      "Epoch 00028: val_recall improved from 0.71462 to 0.74199, saving model to best_baseline_model.h5\n",
      "Epoch 29/50\n",
      "269/269 [==============================] - 11s 42ms/step - loss: 0.1487 - accuracy: 0.9465 - recall: 0.7308 - auc: 0.9661 - val_loss: 0.2175 - val_accuracy: 0.9302 - val_recall: 0.5661 - val_auc: 0.9461\n",
      "\n",
      "Epoch 00029: val_recall did not improve from 0.74199\n"
     ]
    }
   ],
   "source": [
    "#Compile baseline model\n",
    "baseline_model.compile(optimizer='sgd',\n",
    "                       loss='binary_crossentropy',\n",
    "                       metrics=['accuracy', 'Recall', 'AUC'])\n",
    "\n",
    "#Instantiate an EarlyStopping Object\n",
    "es = EarlyStopping(monitor='val_loss', mode='min', patience=5)\n",
    "mc = ModelCheckpoint('best_baseline_model.h5', monitor='val_recall', mode='max', verbose=1, save_best_only=True)\n",
    "\n",
    "#And fit the baseline model to the training images, validating on the val images\n",
    "results = baseline_model.fit(train_images_third,\n",
    "                            train_labels_third,\n",
    "                            epochs=50,\n",
    "                            batch_size=32,\n",
    "                            callbacks = [es,mc],\n",
    "                            validation_data=(val_images, val_labels))"
   ]
  },
  {
   "cell_type": "code",
   "execution_count": 9,
   "id": "1666a656",
   "metadata": {
    "execution": {
     "iopub.execute_input": "2021-11-30T00:34:38.080144Z",
     "iopub.status.busy": "2021-11-30T00:34:38.079370Z",
     "iopub.status.idle": "2021-11-30T00:35:31.677630Z",
     "shell.execute_reply": "2021-11-30T00:35:31.678169Z",
     "shell.execute_reply.started": "2021-11-29T21:36:38.911031Z"
    },
    "papermill": {
     "duration": 55.352589,
     "end_time": "2021-11-30T00:35:31.678322",
     "exception": false,
     "start_time": "2021-11-30T00:34:36.325733",
     "status": "completed"
    },
    "tags": []
   },
   "outputs": [
    {
     "data": {
      "image/png": "[encoded data removed]",
      "text/plain": [
       "<Figure size 720x360 with 4 Axes>"
      ]
     },
     "metadata": {
      "needs_background": "light"
     },
     "output_type": "display_data"
    }
   ],
   "source": [
    "#Visualize model results\n",
    "visualize_results(results)"
   ]
  },
  {
   "cell_type": "code",
   "execution_count": 10,
   "id": "471a3a2b",
   "metadata": {
    "execution": {
     "iopub.execute_input": "2021-11-30T00:35:34.226882Z",
     "iopub.status.busy": "2021-11-30T00:35:34.226349Z",
     "iopub.status.idle": "2021-11-30T00:35:34.243211Z",
     "shell.execute_reply": "2021-11-30T00:35:34.243644Z",
     "shell.execute_reply.started": "2021-11-29T21:36:49.514134Z"
    },
    "papermill": {
     "duration": 1.029878,
     "end_time": "2021-11-30T00:35:34.243793",
     "exception": false,
     "start_time": "2021-11-30T00:35:33.213915",
     "status": "completed"
    },
    "tags": []
   },
   "outputs": [],
   "source": [
    "#Save Weights\n",
    "baseline_model.save_weights('baseline_model_weights.h5')"
   ]
  }
 ],
 "metadata": {
  "kernelspec": {
   "display_name": "Python 3",
   "language": "python",
   "name": "python3"
  },
  "language_info": {
   "codemirror_mode": {
    "name": "ipython",
    "version": 3
   },
   "file_extension": ".py",
   "mimetype": "text/x-python",
   "name": "python",
   "nbconvert_exporter": "python",
   "pygments_lexer": "ipython3",
   "version": "3.7.10"
  },
  "papermill": {
   "default_parameters": {},
   "duration": 447.253273,
   "end_time": "2021-11-30T00:35:38.661954",
   "environment_variables": {},
   "exception": null,
   "input_path": "__notebook__.ipynb",
   "output_path": "__notebook__.ipynb",
   "parameters": {},
   "start_time": "2021-11-30T00:28:11.408681",
   "version": "2.3.3"
  }
 },
 "nbformat": 4,
 "nbformat_minor": 5
}
