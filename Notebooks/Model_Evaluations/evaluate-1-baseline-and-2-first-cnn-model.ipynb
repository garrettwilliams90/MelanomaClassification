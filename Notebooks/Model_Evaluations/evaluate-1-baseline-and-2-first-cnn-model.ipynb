{
 "cells": [
  {
   "cell_type": "code",
   "execution_count": 1,
   "id": "b777c43e",
   "metadata": {
    "_cell_guid": "b1076dfc-b9ad-4769-8c92-a6c4dae69d19",
    "_uuid": "8f2839f25d086af736a60e9eeb907d3b93b6e0e5",
    "execution": {
     "iopub.execute_input": "2021-11-30T03:10:11.690874Z",
     "iopub.status.busy": "2021-11-30T03:10:11.690174Z",
     "iopub.status.idle": "2021-11-30T03:10:11.695419Z",
     "shell.execute_reply": "2021-11-30T03:10:11.694510Z",
     "shell.execute_reply.started": "2021-11-30T02:53:35.004496Z"
    },
    "papermill": {
     "duration": 0.035015,
     "end_time": "2021-11-30T03:10:11.695639",
     "exception": false,
     "start_time": "2021-11-30T03:10:11.660624",
     "status": "completed"
    },
    "tags": []
   },
   "outputs": [
    {
     "data": {
      "text/plain": [
       "\"for dirname, _, filenames in os.walk('/kaggle/input'):\\n    for filename in filenames:\\n        print(os.path.join(dirname, filename))\""
      ]
     },
     "execution_count": 1,
     "metadata": {},
     "output_type": "execute_result"
    }
   ],
   "source": [
    "# This Python 3 environment comes with many helpful analytics libraries installed\n",
    "# It is defined by the kaggle/python Docker image: https://github.com/kaggle/docker-python\n",
    "# For example, here's several helpful packages to load\n",
    "\n",
    "import numpy as np # linear algebra\n",
    "import pandas as pd # data processing, CSV file I/O (e.g. pd.read_csv)\n",
    "\n",
    "# Input data files are available in the read-only \"../input/\" directory\n",
    "# For example, running this (by clicking run or pressing Shift+Enter) will list all files under the input directory\n",
    "\n",
    "import os\n",
    "'''for dirname, _, filenames in os.walk('/kaggle/input'):\n",
    "    for filename in filenames:\n",
    "        print(os.path.join(dirname, filename))'''\n",
    "\n",
    "# You can write up to 20GB to the current directory (/kaggle/working/) that gets preserved as output when you create a version using \"Save & Run All\" \n",
    "# You can also write temporary files to /kaggle/temp/, but they won't be saved outside of the current session"
   ]
  },
  {
   "cell_type": "code",
   "execution_count": 2,
   "id": "a59d4867",
   "metadata": {
    "execution": {
     "iopub.execute_input": "2021-11-30T03:10:11.724685Z",
     "iopub.status.busy": "2021-11-30T03:10:11.723818Z",
     "iopub.status.idle": "2021-11-30T03:10:17.959023Z",
     "shell.execute_reply": "2021-11-30T03:10:17.959760Z",
     "shell.execute_reply.started": "2021-11-30T02:53:35.029731Z"
    },
    "papermill": {
     "duration": 6.25198,
     "end_time": "2021-11-30T03:10:17.959961",
     "exception": false,
     "start_time": "2021-11-30T03:10:11.707981",
     "status": "completed"
    },
    "tags": []
   },
   "outputs": [],
   "source": [
    "#Other necessary imports\n",
    "from sklearn.metrics import confusion_matrix, ConfusionMatrixDisplay\n",
    "import matplotlib.pyplot as plt\n",
    "import seaborn as sns\n",
    "\n",
    "from PIL import Image\n",
    "import keras\n",
    "from keras import models\n",
    "from keras import layers\n",
    "from keras.models import load_model\n",
    "from sklearn.utils import compute_class_weight\n",
    "\n",
    "# Suppress warnings \n",
    "import warnings\n",
    "warnings.filterwarnings('ignore')"
   ]
  },
  {
   "cell_type": "markdown",
   "id": "6b88da73",
   "metadata": {
    "papermill": {
     "duration": 0.01285,
     "end_time": "2021-11-30T03:10:17.983962",
     "exception": false,
     "start_time": "2021-11-30T03:10:17.971112",
     "status": "completed"
    },
    "tags": []
   },
   "source": [
    "Source for plot confusion matrix: <br> https://stackoverflow.com/questions/69875073/confusion-matrix-valueerror-classification-metrics-cant-handle-a-mix-of-binary"
   ]
  },
  {
   "cell_type": "code",
   "execution_count": 3,
   "id": "68f50213",
   "metadata": {
    "execution": {
     "iopub.execute_input": "2021-11-30T03:10:18.009404Z",
     "iopub.status.busy": "2021-11-30T03:10:18.008751Z",
     "iopub.status.idle": "2021-11-30T03:10:18.018454Z",
     "shell.execute_reply": "2021-11-30T03:10:18.017979Z",
     "shell.execute_reply.started": "2021-11-30T02:53:40.409245Z"
    },
    "papermill": {
     "duration": 0.023745,
     "end_time": "2021-11-30T03:10:18.018589",
     "exception": false,
     "start_time": "2021-11-30T03:10:17.994844",
     "status": "completed"
    },
    "tags": []
   },
   "outputs": [],
   "source": [
    "#Evaluate each model\n",
    "def evaluate_model(model, x_train, y_train, x_val, y_val):\n",
    "    '''\n",
    "    Evaluate model by displaying confusion matrix of validation data, \n",
    "    and also by displaying a DataFrame with Loss, Accuracy, Recall, and AUC-ROC for both train and val datasets\n",
    "    \n",
    "    Input: \n",
    "    -model to be evaluated\n",
    "    -x_train: predictors from training data\n",
    "    -y_train: target from training data\n",
    "    -x_val: predictors from validation data\n",
    "    -y_val: target from validation data\n",
    "    \n",
    "    Output:\n",
    "    -Confusion matrix of y_val and model predictions\n",
    "    -DataFrame with Loss, Accuracy, Recall, and AUC-ROC for both train and val datasets\n",
    "    '''\n",
    "\n",
    "    #Plot Confusion Matrix\n",
    "    y_preds = model.predict(x_val)\n",
    "    y_preds = y_preds.flatten()\n",
    "    y_preds = np.where(y_preds > 0.5, 1, 0)\n",
    "    cm = confusion_matrix(y_val, y_preds, normalize = None)\n",
    "    disp = ConfusionMatrixDisplay(confusion_matrix=cm, display_labels=['Benign', 'Malignant'])\n",
    "    disp.plot()\n",
    "    plt.show()\n",
    "    \n",
    "    #Create a DataFrame with the results \n",
    "    model_train = model.evaluate(x_train, y_train)\n",
    "    model_val = model.evaluate(x_val, y_val)\n",
    "    model_results = {\"Training\":[],\"Validation\":[]};\n",
    "    for i in range(4):\n",
    "        model_results['Training'].append(round(model_train[i],3))\n",
    "        model_results['Validation'].append(round(model_val[i],3))\n",
    "    model_results_df = pd.DataFrame.from_dict(data = model_results,\n",
    "                                                   orient = 'index', \n",
    "                                                   columns = ['Loss', 'Accuracy', 'Recall', 'AUC-ROC'])\n",
    "    display(model_results_df)"
   ]
  },
  {
   "cell_type": "markdown",
   "id": "61c9c5e3",
   "metadata": {
    "papermill": {
     "duration": 0.010637,
     "end_time": "2021-11-30T03:10:18.040108",
     "exception": false,
     "start_time": "2021-11-30T03:10:18.029471",
     "status": "completed"
    },
    "tags": []
   },
   "source": [
    "# Load Preprocessed Data"
   ]
  },
  {
   "cell_type": "code",
   "execution_count": 4,
   "id": "5c0ac148",
   "metadata": {
    "execution": {
     "iopub.execute_input": "2021-11-30T03:10:18.068361Z",
     "iopub.status.busy": "2021-11-30T03:10:18.067624Z",
     "iopub.status.idle": "2021-11-30T03:10:51.606866Z",
     "shell.execute_reply": "2021-11-30T03:10:51.606277Z",
     "shell.execute_reply.started": "2021-11-30T02:53:40.464656Z"
    },
    "papermill": {
     "duration": 33.555922,
     "end_time": "2021-11-30T03:10:51.607022",
     "exception": false,
     "start_time": "2021-11-30T03:10:18.051100",
     "status": "completed"
    },
    "tags": []
   },
   "outputs": [],
   "source": [
    "#Load data\n",
    "train_images = np.load('../input/eda-and-data-preprocessing/train_images.npy')\n",
    "train_labels = np.load('../input/eda-and-data-preprocessing/train_labels.npy')\n",
    "\n",
    "train_images_third = np.load('../input/eda-and-data-preprocessing/train_images_third.npy')\n",
    "train_labels_third = np.load('../input/eda-and-data-preprocessing/train_labels_third.npy')\n",
    "\n",
    "val_images = np.load('../input/eda-and-data-preprocessing/val_images.npy')\n",
    "val_labels = np.load('../input/eda-and-data-preprocessing/val_labels.npy')\n",
    "\n",
    "test_images = np.load('../input/eda-and-data-preprocessing/test_images.npy')\n",
    "test_labels = np.load('../input/eda-and-data-preprocessing/test_labels.npy')"
   ]
  },
  {
   "cell_type": "code",
   "execution_count": 5,
   "id": "6474b764",
   "metadata": {
    "execution": {
     "iopub.execute_input": "2021-11-30T03:10:51.643200Z",
     "iopub.status.busy": "2021-11-30T03:10:51.639374Z",
     "iopub.status.idle": "2021-11-30T03:10:51.649368Z",
     "shell.execute_reply": "2021-11-30T03:10:51.648800Z",
     "shell.execute_reply.started": "2021-11-30T02:54:07.985419Z"
    },
    "papermill": {
     "duration": 0.03131,
     "end_time": "2021-11-30T03:10:51.649507",
     "exception": false,
     "start_time": "2021-11-30T03:10:51.618197",
     "status": "completed"
    },
    "tags": []
   },
   "outputs": [
    {
     "name": "stdout",
     "output_type": "stream",
     "text": [
      "Number of training samples: 25803\n",
      "A third of training samples: 8601\n",
      "Number of validation samples: 8602\n",
      "Number of testing samples: 3823\n",
      "===\n",
      "train_images shape: (25803, 128, 128, 3)\n",
      "train_labels shape: (25803,)\n",
      "A third of train_images shape: (8601, 128, 128, 3)\n",
      "A third of train_labels shape: (8601,)\n",
      "val_images shape: (8602, 128, 128, 3)\n",
      "val_labels shape: (8602,)\n",
      "test_images shape: (3823, 128, 128, 3)\n",
      "test_labels shape: (3823,)\n"
     ]
    }
   ],
   "source": [
    "#Explore the dataset again\n",
    "print (\"Number of training samples: \" + str(train_images.shape[0]))\n",
    "print (\"A third of training samples: \" + str(train_images_third.shape[0]))\n",
    "print (\"Number of validation samples: \" + str(val_images.shape[0]))\n",
    "print (\"Number of testing samples: \" + str(test_images.shape[0]))\n",
    "print (\"===\")\n",
    "print (\"train_images shape: \" + str(train_images.shape))\n",
    "print (\"train_labels shape: \" + str(train_labels.shape))\n",
    "print (\"A third of train_images shape: \" + str(train_images_third.shape))\n",
    "print (\"A third of train_labels shape: \" + str(train_labels_third.shape))\n",
    "print (\"val_images shape: \" + str(val_images.shape))\n",
    "print (\"val_labels shape: \" + str(val_labels.shape))\n",
    "print (\"test_images shape: \" + str(test_images.shape))\n",
    "print (\"test_labels shape: \" + str(test_labels.shape))"
   ]
  },
  {
   "cell_type": "markdown",
   "id": "2ae8c9f4",
   "metadata": {
    "papermill": {
     "duration": 0.01093,
     "end_time": "2021-11-30T03:10:51.674219",
     "exception": false,
     "start_time": "2021-11-30T03:10:51.663289",
     "status": "completed"
    },
    "tags": []
   },
   "source": [
    "# Load Models"
   ]
  },
  {
   "cell_type": "code",
   "execution_count": 6,
   "id": "0c7e6125",
   "metadata": {
    "execution": {
     "iopub.execute_input": "2021-11-30T03:10:51.699913Z",
     "iopub.status.busy": "2021-11-30T03:10:51.699285Z",
     "iopub.status.idle": "2021-11-30T03:10:52.152408Z",
     "shell.execute_reply": "2021-11-30T03:10:52.152989Z",
     "shell.execute_reply.started": "2021-11-30T02:54:07.997135Z"
    },
    "papermill": {
     "duration": 0.467679,
     "end_time": "2021-11-30T03:10:52.153191",
     "exception": false,
     "start_time": "2021-11-30T03:10:51.685512",
     "status": "completed"
    },
    "tags": []
   },
   "outputs": [
    {
     "name": "stderr",
     "output_type": "stream",
     "text": [
      "\n",
      "User settings:\n",
      "\n",
      "   KMP_AFFINITY=granularity=fine,verbose,compact,1,0\n",
      "   KMP_BLOCKTIME=0\n",
      "   KMP_DUPLICATE_LIB_OK=True\n",
      "   KMP_INIT_AT_FORK=FALSE\n",
      "   KMP_SETTINGS=1\n",
      "   KMP_WARNINGS=0\n",
      "\n",
      "Effective settings:\n",
      "\n",
      "   KMP_ABORT_DELAY=0\n",
      "   KMP_ADAPTIVE_LOCK_PROPS='1,1024'\n",
      "   KMP_ALIGN_ALLOC=64\n",
      "   KMP_ALL_THREADPRIVATE=128\n",
      "   KMP_ATOMIC_MODE=2\n",
      "   KMP_BLOCKTIME=0\n",
      "   KMP_CPUINFO_FILE: value is not defined\n",
      "   KMP_DETERMINISTIC_REDUCTION=false\n",
      "   KMP_DEVICE_THREAD_LIMIT=2147483647\n",
      "   KMP_DISP_NUM_BUFFERS=7\n",
      "   KMP_DUPLICATE_LIB_OK=true\n",
      "   KMP_ENABLE_TASK_THROTTLING=true\n",
      "   KMP_FORCE_REDUCTION: value is not defined\n",
      "   KMP_FOREIGN_THREADS_THREADPRIVATE=true\n",
      "   KMP_FORKJOIN_BARRIER='2,2'\n",
      "   KMP_FORKJOIN_BARRIER_PATTERN='hyper,hyper'\n",
      "   KMP_GTID_MODE=3\n",
      "   KMP_HANDLE_SIGNALS=false\n",
      "   KMP_HOT_TEAMS_MAX_LEVEL=1\n",
      "   KMP_HOT_TEAMS_MODE=0\n",
      "   KMP_INIT_AT_FORK=true\n",
      "   KMP_LIBRARY=throughput\n",
      "   KMP_LOCK_KIND=queuing\n",
      "   KMP_MALLOC_POOL_INCR=1M\n",
      "   KMP_NUM_LOCKS_IN_BLOCK=1\n",
      "   KMP_PLAIN_BARRIER='2,2'\n",
      "   KMP_PLAIN_BARRIER_PATTERN='hyper,hyper'\n",
      "   KMP_REDUCTION_BARRIER='1,1'\n",
      "   KMP_REDUCTION_BARRIER_PATTERN='hyper,hyper'\n",
      "   KMP_SCHEDULE='static,balanced;guided,iterative'\n",
      "   KMP_SETTINGS=true\n",
      "   KMP_SPIN_BACKOFF_PARAMS='4096,100'\n",
      "   KMP_STACKOFFSET=64\n",
      "   KMP_STACKPAD=0\n",
      "   KMP_STACKSIZE=8M\n",
      "   KMP_STORAGE_MAP=false\n",
      "   KMP_TASKING=2\n",
      "   KMP_TASKLOOP_MIN_TASKS=0\n",
      "   KMP_TASK_STEALING_CONSTRAINT=1\n",
      "   KMP_TEAMS_THREAD_LIMIT=4\n",
      "   KMP_TOPOLOGY_METHOD=all\n",
      "   KMP_USE_YIELD=1\n",
      "   KMP_VERSION=false\n",
      "   KMP_WARNINGS=false\n",
      "   OMP_AFFINITY_FORMAT='OMP: pid %P tid %i thread %n bound to OS proc set {%A}'\n",
      "   OMP_ALLOCATOR=omp_default_mem_alloc\n",
      "   OMP_CANCELLATION=false\n",
      "   OMP_DEFAULT_DEVICE=0\n",
      "   OMP_DISPLAY_AFFINITY=false\n",
      "   OMP_DISPLAY_ENV=false\n",
      "   OMP_DYNAMIC=false\n",
      "   OMP_MAX_ACTIVE_LEVELS=1\n",
      "   OMP_MAX_TASK_PRIORITY=0\n",
      "   OMP_NESTED: deprecated; max-active-levels-var=1\n",
      "   OMP_NUM_THREADS: value is not defined\n",
      "   OMP_PLACES: value is not defined\n",
      "   OMP_PROC_BIND='intel'\n",
      "   OMP_SCHEDULE='static'\n",
      "   OMP_STACKSIZE=8M\n",
      "   OMP_TARGET_OFFLOAD=DEFAULT\n",
      "   OMP_THREAD_LIMIT=2147483647\n",
      "   OMP_WAIT_POLICY=PASSIVE\n",
      "   KMP_AFFINITY='verbose,warnings,respect,granularity=fine,compact,1,0'\n",
      "\n",
      "2021-11-30 03:10:51.757096: I tensorflow/core/common_runtime/process_util.cc:146] Creating new thread pool with default inter op setting: 2. Tune using inter_op_parallelism_threads for best performance.\n"
     ]
    },
    {
     "name": "stdout",
     "output_type": "stream",
     "text": [
      "Model: \"sequential\"\n",
      "_________________________________________________________________\n",
      "Layer (type)                 Output Shape              Param #   \n",
      "=================================================================\n",
      "dense (Dense)                (None, 128, 128, 12)      48        \n",
      "_________________________________________________________________\n",
      "flatten (Flatten)            (None, 196608)            0         \n",
      "_________________________________________________________________\n",
      "dense_1 (Dense)              (None, 7)                 1376263   \n",
      "_________________________________________________________________\n",
      "dense_2 (Dense)              (None, 5)                 40        \n",
      "_________________________________________________________________\n",
      "dense_3 (Dense)              (None, 1)                 6         \n",
      "=================================================================\n",
      "Total params: 1,376,357\n",
      "Trainable params: 1,376,357\n",
      "Non-trainable params: 0\n",
      "_________________________________________________________________\n"
     ]
    }
   ],
   "source": [
    "#Load baseline model\n",
    "baseline_model = load_model('../input/baseline-model/best_baseline_model.h5')\n",
    "baseline_model.summary()"
   ]
  },
  {
   "cell_type": "code",
   "execution_count": 7,
   "id": "04f92473",
   "metadata": {
    "execution": {
     "iopub.execute_input": "2021-11-30T03:10:52.182574Z",
     "iopub.status.busy": "2021-11-30T03:10:52.181827Z",
     "iopub.status.idle": "2021-11-30T03:10:52.436586Z",
     "shell.execute_reply": "2021-11-30T03:10:52.435934Z",
     "shell.execute_reply.started": "2021-11-30T02:54:10.687340Z"
    },
    "papermill": {
     "duration": 0.270851,
     "end_time": "2021-11-30T03:10:52.436729",
     "exception": false,
     "start_time": "2021-11-30T03:10:52.165878",
     "status": "completed"
    },
    "tags": []
   },
   "outputs": [
    {
     "name": "stdout",
     "output_type": "stream",
     "text": [
      "Model: \"sequential\"\n",
      "_________________________________________________________________\n",
      "Layer (type)                 Output Shape              Param #   \n",
      "=================================================================\n",
      "conv2d (Conv2D)              (None, 126, 126, 32)      896       \n",
      "_________________________________________________________________\n",
      "max_pooling2d (MaxPooling2D) (None, 63, 63, 32)        0         \n",
      "_________________________________________________________________\n",
      "conv2d_1 (Conv2D)            (None, 60, 60, 32)        16416     \n",
      "_________________________________________________________________\n",
      "max_pooling2d_1 (MaxPooling2 (None, 30, 30, 32)        0         \n",
      "_________________________________________________________________\n",
      "conv2d_2 (Conv2D)            (None, 28, 28, 64)        18496     \n",
      "_________________________________________________________________\n",
      "max_pooling2d_2 (MaxPooling2 (None, 14, 14, 64)        0         \n",
      "_________________________________________________________________\n",
      "flatten (Flatten)            (None, 12544)             0         \n",
      "_________________________________________________________________\n",
      "dense (Dense)                (None, 64)                802880    \n",
      "_________________________________________________________________\n",
      "dense_1 (Dense)              (None, 1)                 65        \n",
      "=================================================================\n",
      "Total params: 838,753\n",
      "Trainable params: 838,753\n",
      "Non-trainable params: 0\n",
      "_________________________________________________________________\n"
     ]
    }
   ],
   "source": [
    "#Load first cnn model\n",
    "first_cnn_model = load_model('../input/first-cnn-model/best_cnn_model.h5')\n",
    "first_cnn_model.summary()"
   ]
  },
  {
   "cell_type": "markdown",
   "id": "2903899d",
   "metadata": {
    "papermill": {
     "duration": 0.01265,
     "end_time": "2021-11-30T03:10:52.462358",
     "exception": false,
     "start_time": "2021-11-30T03:10:52.449708",
     "status": "completed"
    },
    "tags": []
   },
   "source": [
    "# Evaluate"
   ]
  },
  {
   "cell_type": "code",
   "execution_count": 8,
   "id": "9315551d",
   "metadata": {
    "execution": {
     "iopub.execute_input": "2021-11-30T03:10:52.494387Z",
     "iopub.status.busy": "2021-11-30T03:10:52.493669Z",
     "iopub.status.idle": "2021-11-30T03:11:15.489554Z",
     "shell.execute_reply": "2021-11-30T03:11:15.488955Z",
     "shell.execute_reply.started": "2021-11-30T02:54:23.791828Z"
    },
    "papermill": {
     "duration": 23.013877,
     "end_time": "2021-11-30T03:11:15.489706",
     "exception": false,
     "start_time": "2021-11-30T03:10:52.475829",
     "status": "completed"
    },
    "tags": []
   },
   "outputs": [
    {
     "name": "stderr",
     "output_type": "stream",
     "text": [
      "2021-11-30 03:10:56.443527: I tensorflow/compiler/mlir/mlir_graph_optimization_pass.cc:185] None of the MLIR Optimization Passes are enabled (registered 2)\n"
     ]
    },
    {
     "data": {
      "image/png": "[encoded data removed]",
      "text/plain": [
       "<Figure size 432x288 with 2 Axes>"
      ]
     },
     "metadata": {
      "needs_background": "light"
     },
     "output_type": "display_data"
    },
    {
     "name": "stdout",
     "output_type": "stream",
     "text": [
      "269/269 [==============================] - 4s 14ms/step - loss: 0.1480 - accuracy: 0.9504 - recall: 0.8157 - auc: 0.9711\n",
      "269/269 [==============================] - 4s 14ms/step - loss: 0.1848 - accuracy: 0.9323 - recall: 0.7420 - auc: 0.9507\n"
     ]
    },
    {
     "data": {
      "text/html": [
       "<div>\n",
       "<style scoped>\n",
       "    .dataframe tbody tr th:only-of-type {\n",
       "        vertical-align: middle;\n",
       "    }\n",
       "\n",
       "    .dataframe tbody tr th {\n",
       "        vertical-align: top;\n",
       "    }\n",
       "\n",
       "    .dataframe thead th {\n",
       "        text-align: right;\n",
       "    }\n",
       "</style>\n",
       "<table border=\"1\" class=\"dataframe\">\n",
       "  <thead>\n",
       "    <tr style=\"text-align: right;\">\n",
       "      <th></th>\n",
       "      <th>Loss</th>\n",
       "      <th>Accuracy</th>\n",
       "      <th>Recall</th>\n",
       "      <th>AUC-ROC</th>\n",
       "    </tr>\n",
       "  </thead>\n",
       "  <tbody>\n",
       "    <tr>\n",
       "      <th>Training</th>\n",
       "      <td>0.148</td>\n",
       "      <td>0.950</td>\n",
       "      <td>0.816</td>\n",
       "      <td>0.971</td>\n",
       "    </tr>\n",
       "    <tr>\n",
       "      <th>Validation</th>\n",
       "      <td>0.185</td>\n",
       "      <td>0.932</td>\n",
       "      <td>0.742</td>\n",
       "      <td>0.951</td>\n",
       "    </tr>\n",
       "  </tbody>\n",
       "</table>\n",
       "</div>"
      ],
      "text/plain": [
       "             Loss  Accuracy  Recall  AUC-ROC\n",
       "Training    0.148     0.950   0.816    0.971\n",
       "Validation  0.185     0.932   0.742    0.951"
      ]
     },
     "metadata": {},
     "output_type": "display_data"
    }
   ],
   "source": [
    "#Evaluate baseline model\n",
    "evaluate_model(baseline_model, train_images_third, train_labels_third, val_images, val_labels)"
   ]
  },
  {
   "cell_type": "code",
   "execution_count": 9,
   "id": "7f0ab79a",
   "metadata": {
    "execution": {
     "iopub.execute_input": "2021-11-30T03:11:15.607483Z",
     "iopub.status.busy": "2021-11-30T03:11:15.606821Z",
     "iopub.status.idle": "2021-11-30T03:12:10.864533Z",
     "shell.execute_reply": "2021-11-30T03:12:10.863931Z"
    },
    "papermill": {
     "duration": 55.31828,
     "end_time": "2021-11-30T03:12:10.864673",
     "exception": false,
     "start_time": "2021-11-30T03:11:15.546393",
     "status": "completed"
    },
    "tags": []
   },
   "outputs": [
    {
     "data": {
      "image/png": "[encoded data removed]",
      "text/plain": [
       "<Figure size 432x288 with 2 Axes>"
      ]
     },
     "metadata": {
      "needs_background": "light"
     },
     "output_type": "display_data"
    },
    {
     "name": "stdout",
     "output_type": "stream",
     "text": [
      "269/269 [==============================] - 15s 56ms/step - loss: 0.1314 - accuracy: 0.9528 - recall: 0.8133 - auc: 0.9706\n",
      "269/269 [==============================] - 16s 58ms/step - loss: 0.2166 - accuracy: 0.9293 - recall: 0.7279 - auc: 0.9421\n"
     ]
    },
    {
     "data": {
      "text/html": [
       "<div>\n",
       "<style scoped>\n",
       "    .dataframe tbody tr th:only-of-type {\n",
       "        vertical-align: middle;\n",
       "    }\n",
       "\n",
       "    .dataframe tbody tr th {\n",
       "        vertical-align: top;\n",
       "    }\n",
       "\n",
       "    .dataframe thead th {\n",
       "        text-align: right;\n",
       "    }\n",
       "</style>\n",
       "<table border=\"1\" class=\"dataframe\">\n",
       "  <thead>\n",
       "    <tr style=\"text-align: right;\">\n",
       "      <th></th>\n",
       "      <th>Loss</th>\n",
       "      <th>Accuracy</th>\n",
       "      <th>Recall</th>\n",
       "      <th>AUC-ROC</th>\n",
       "    </tr>\n",
       "  </thead>\n",
       "  <tbody>\n",
       "    <tr>\n",
       "      <th>Training</th>\n",
       "      <td>0.131</td>\n",
       "      <td>0.953</td>\n",
       "      <td>0.813</td>\n",
       "      <td>0.971</td>\n",
       "    </tr>\n",
       "    <tr>\n",
       "      <th>Validation</th>\n",
       "      <td>0.217</td>\n",
       "      <td>0.929</td>\n",
       "      <td>0.728</td>\n",
       "      <td>0.942</td>\n",
       "    </tr>\n",
       "  </tbody>\n",
       "</table>\n",
       "</div>"
      ],
      "text/plain": [
       "             Loss  Accuracy  Recall  AUC-ROC\n",
       "Training    0.131     0.953   0.813    0.971\n",
       "Validation  0.217     0.929   0.728    0.942"
      ]
     },
     "metadata": {},
     "output_type": "display_data"
    }
   ],
   "source": [
    "#Evaluate first cnn model\n",
    "evaluate_model(first_cnn_model, train_images_third, train_labels_third, val_images, val_labels)"
   ]
  }
 ],
 "metadata": {
  "kernelspec": {
   "display_name": "Python 3",
   "language": "python",
   "name": "python3"
  },
  "language_info": {
   "codemirror_mode": {
    "name": "ipython",
    "version": 3
   },
   "file_extension": ".py",
   "mimetype": "text/x-python",
   "name": "python",
   "nbconvert_exporter": "python",
   "pygments_lexer": "ipython3",
   "version": "3.7.10"
  },
  "papermill": {
   "default_parameters": {},
   "duration": 131.576161,
   "end_time": "2021-11-30T03:12:14.424794",
   "environment_variables": {},
   "exception": null,
   "input_path": "__notebook__.ipynb",
   "output_path": "__notebook__.ipynb",
   "parameters": {},
   "start_time": "2021-11-30T03:10:02.848633",
   "version": "2.3.3"
  }
 },
 "nbformat": 4,
 "nbformat_minor": 5
}
